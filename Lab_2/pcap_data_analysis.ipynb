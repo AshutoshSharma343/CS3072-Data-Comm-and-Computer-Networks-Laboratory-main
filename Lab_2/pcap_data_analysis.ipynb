{
 "cells": [
  {
   "cell_type": "code",
   "execution_count": 1,
   "metadata": {},
   "outputs": [
    {
     "name": "stdout",
     "output_type": "stream",
     "text": [
      "hello world\n"
     ]
    }
   ],
   "source": [
    "print('hello world')"
   ]
  },
  {
   "cell_type": "code",
   "execution_count": 2,
   "metadata": {},
   "outputs": [],
   "source": [
    "import pandas as pd\n",
    "\n",
    "path = r'/home/nitr/Downloads/CS3072-Data-Comm-and-Computer-Networks-Laboratory/Lab_2/http_pcap_data.csv'\n",
    "\n",
    "df = pd.read_csv(path)"
   ]
  },
  {
   "cell_type": "code",
   "execution_count": 3,
   "metadata": {},
   "outputs": [
    {
     "data": {
      "text/html": [
       "<div>\n",
       "<style scoped>\n",
       "    .dataframe tbody tr th:only-of-type {\n",
       "        vertical-align: middle;\n",
       "    }\n",
       "\n",
       "    .dataframe tbody tr th {\n",
       "        vertical-align: top;\n",
       "    }\n",
       "\n",
       "    .dataframe thead th {\n",
       "        text-align: right;\n",
       "    }\n",
       "</style>\n",
       "<table border=\"1\" class=\"dataframe\">\n",
       "  <thead>\n",
       "    <tr style=\"text-align: right;\">\n",
       "      <th></th>\n",
       "      <th>No.</th>\n",
       "      <th>Time</th>\n",
       "      <th>Source</th>\n",
       "      <th>Destination</th>\n",
       "      <th>Protocol</th>\n",
       "      <th>Length</th>\n",
       "      <th>Info</th>\n",
       "    </tr>\n",
       "  </thead>\n",
       "  <tbody>\n",
       "    <tr>\n",
       "      <th>0</th>\n",
       "      <td>1</td>\n",
       "      <td>0.000000</td>\n",
       "      <td>XiaomiCo_9e:9c:c3</td>\n",
       "      <td>Broadcast</td>\n",
       "      <td>ARP</td>\n",
       "      <td>42</td>\n",
       "      <td>Who has 192.168.43.153? Tell 192.168.43.1</td>\n",
       "    </tr>\n",
       "    <tr>\n",
       "      <th>1</th>\n",
       "      <td>2</td>\n",
       "      <td>0.000033</td>\n",
       "      <td>HonHaiPr_8c:90:55</td>\n",
       "      <td>XiaomiCo_9e:9c:c3</td>\n",
       "      <td>ARP</td>\n",
       "      <td>42</td>\n",
       "      <td>192.168.43.153 is at e0:06:e6:8c:90:55</td>\n",
       "    </tr>\n",
       "    <tr>\n",
       "      <th>2</th>\n",
       "      <td>3</td>\n",
       "      <td>3.587724</td>\n",
       "      <td>192.168.43.153</td>\n",
       "      <td>103.27.9.20</td>\n",
       "      <td>TCP</td>\n",
       "      <td>74</td>\n",
       "      <td>34573  &gt;  80 [SYN] Seq=0 Win=14600 Len=0 MSS=1...</td>\n",
       "    </tr>\n",
       "    <tr>\n",
       "      <th>3</th>\n",
       "      <td>4</td>\n",
       "      <td>3.838451</td>\n",
       "      <td>192.168.43.153</td>\n",
       "      <td>192.168.43.1</td>\n",
       "      <td>DNS</td>\n",
       "      <td>74</td>\n",
       "      <td>Standard query 0x9f1d A www.iitd.ac.in</td>\n",
       "    </tr>\n",
       "    <tr>\n",
       "      <th>4</th>\n",
       "      <td>5</td>\n",
       "      <td>3.840562</td>\n",
       "      <td>192.168.43.1</td>\n",
       "      <td>192.168.43.153</td>\n",
       "      <td>DNS</td>\n",
       "      <td>90</td>\n",
       "      <td>Standard query response 0x9f1d A www.iitd.ac.i...</td>\n",
       "    </tr>\n",
       "  </tbody>\n",
       "</table>\n",
       "</div>"
      ],
      "text/plain": [
       "   No.      Time             Source        Destination Protocol  Length  \\\n",
       "0    1  0.000000  XiaomiCo_9e:9c:c3          Broadcast      ARP      42   \n",
       "1    2  0.000033  HonHaiPr_8c:90:55  XiaomiCo_9e:9c:c3      ARP      42   \n",
       "2    3  3.587724     192.168.43.153        103.27.9.20      TCP      74   \n",
       "3    4  3.838451     192.168.43.153       192.168.43.1      DNS      74   \n",
       "4    5  3.840562       192.168.43.1     192.168.43.153      DNS      90   \n",
       "\n",
       "                                                Info  \n",
       "0          Who has 192.168.43.153? Tell 192.168.43.1  \n",
       "1             192.168.43.153 is at e0:06:e6:8c:90:55  \n",
       "2  34573  >  80 [SYN] Seq=0 Win=14600 Len=0 MSS=1...  \n",
       "3             Standard query 0x9f1d A www.iitd.ac.in  \n",
       "4  Standard query response 0x9f1d A www.iitd.ac.i...  "
      ]
     },
     "execution_count": 3,
     "metadata": {},
     "output_type": "execute_result"
    }
   ],
   "source": [
    "df.head(5)"
   ]
  },
  {
   "cell_type": "code",
   "execution_count": 4,
   "metadata": {},
   "outputs": [
    {
     "name": "stdout",
     "output_type": "stream",
     "text": [
      "['ARP' 'TCP' 'DNS' 'HTTP' 'TLSv1']\n"
     ]
    }
   ],
   "source": [
    "protocols = df['Protocol'].unique()\n",
    "print(protocols)"
   ]
  },
  {
   "cell_type": "code",
   "execution_count": 5,
   "metadata": {},
   "outputs": [
    {
     "data": {
      "text/html": [
       "<div>\n",
       "<style scoped>\n",
       "    .dataframe tbody tr th:only-of-type {\n",
       "        vertical-align: middle;\n",
       "    }\n",
       "\n",
       "    .dataframe tbody tr th {\n",
       "        vertical-align: top;\n",
       "    }\n",
       "\n",
       "    .dataframe thead th {\n",
       "        text-align: right;\n",
       "    }\n",
       "</style>\n",
       "<table border=\"1\" class=\"dataframe\">\n",
       "  <thead>\n",
       "    <tr style=\"text-align: right;\">\n",
       "      <th></th>\n",
       "      <th>Source</th>\n",
       "      <th>Destination</th>\n",
       "    </tr>\n",
       "  </thead>\n",
       "  <tbody>\n",
       "    <tr>\n",
       "      <th>0</th>\n",
       "      <td>XiaomiCo_9e:9c:c3</td>\n",
       "      <td>Broadcast</td>\n",
       "    </tr>\n",
       "    <tr>\n",
       "      <th>1</th>\n",
       "      <td>HonHaiPr_8c:90:55</td>\n",
       "      <td>XiaomiCo_9e:9c:c3</td>\n",
       "    </tr>\n",
       "    <tr>\n",
       "      <th>2</th>\n",
       "      <td>192.168.43.153</td>\n",
       "      <td>103.27.9.20</td>\n",
       "    </tr>\n",
       "    <tr>\n",
       "      <th>3</th>\n",
       "      <td>192.168.43.153</td>\n",
       "      <td>192.168.43.1</td>\n",
       "    </tr>\n",
       "    <tr>\n",
       "      <th>4</th>\n",
       "      <td>192.168.43.1</td>\n",
       "      <td>192.168.43.153</td>\n",
       "    </tr>\n",
       "    <tr>\n",
       "      <th>5</th>\n",
       "      <td>192.168.43.153</td>\n",
       "      <td>103.27.9.20</td>\n",
       "    </tr>\n",
       "    <tr>\n",
       "      <th>6</th>\n",
       "      <td>103.27.9.20</td>\n",
       "      <td>192.168.43.153</td>\n",
       "    </tr>\n",
       "    <tr>\n",
       "      <th>7</th>\n",
       "      <td>192.168.43.153</td>\n",
       "      <td>103.27.9.20</td>\n",
       "    </tr>\n",
       "    <tr>\n",
       "      <th>8</th>\n",
       "      <td>192.168.43.153</td>\n",
       "      <td>103.27.9.20</td>\n",
       "    </tr>\n",
       "    <tr>\n",
       "      <th>9</th>\n",
       "      <td>103.27.9.20</td>\n",
       "      <td>192.168.43.153</td>\n",
       "    </tr>\n",
       "  </tbody>\n",
       "</table>\n",
       "</div>"
      ],
      "text/plain": [
       "              Source        Destination\n",
       "0  XiaomiCo_9e:9c:c3          Broadcast\n",
       "1  HonHaiPr_8c:90:55  XiaomiCo_9e:9c:c3\n",
       "2     192.168.43.153        103.27.9.20\n",
       "3     192.168.43.153       192.168.43.1\n",
       "4       192.168.43.1     192.168.43.153\n",
       "5     192.168.43.153        103.27.9.20\n",
       "6        103.27.9.20     192.168.43.153\n",
       "7     192.168.43.153        103.27.9.20\n",
       "8     192.168.43.153        103.27.9.20\n",
       "9        103.27.9.20     192.168.43.153"
      ]
     },
     "execution_count": 5,
     "metadata": {},
     "output_type": "execute_result"
    }
   ],
   "source": [
    "df_ip_addresses = df[['Source','Destination']]\n",
    "df_ip_addresses.head(10)"
   ]
  },
  {
   "cell_type": "code",
   "execution_count": 6,
   "metadata": {},
   "outputs": [
    {
     "data": {
      "text/html": [
       "<div>\n",
       "<style scoped>\n",
       "    .dataframe tbody tr th:only-of-type {\n",
       "        vertical-align: middle;\n",
       "    }\n",
       "\n",
       "    .dataframe tbody tr th {\n",
       "        vertical-align: top;\n",
       "    }\n",
       "\n",
       "    .dataframe thead th {\n",
       "        text-align: right;\n",
       "    }\n",
       "</style>\n",
       "<table border=\"1\" class=\"dataframe\">\n",
       "  <thead>\n",
       "    <tr style=\"text-align: right;\">\n",
       "      <th></th>\n",
       "      <th>No.</th>\n",
       "      <th>Time</th>\n",
       "      <th>Source</th>\n",
       "      <th>Destination</th>\n",
       "      <th>Protocol</th>\n",
       "      <th>Length</th>\n",
       "      <th>Info</th>\n",
       "    </tr>\n",
       "  </thead>\n",
       "  <tbody>\n",
       "    <tr>\n",
       "      <th>2</th>\n",
       "      <td>3</td>\n",
       "      <td>3.587724</td>\n",
       "      <td>192.168.43.153</td>\n",
       "      <td>103.27.9.20</td>\n",
       "      <td>TCP</td>\n",
       "      <td>74</td>\n",
       "      <td>34573  &gt;  80 [SYN] Seq=0 Win=14600 Len=0 MSS=1...</td>\n",
       "    </tr>\n",
       "    <tr>\n",
       "      <th>5</th>\n",
       "      <td>6</td>\n",
       "      <td>3.840998</td>\n",
       "      <td>192.168.43.153</td>\n",
       "      <td>103.27.9.20</td>\n",
       "      <td>TCP</td>\n",
       "      <td>74</td>\n",
       "      <td>34574  &gt;  80 [SYN] Seq=0 Win=14600 Len=0 MSS=1...</td>\n",
       "    </tr>\n",
       "    <tr>\n",
       "      <th>6</th>\n",
       "      <td>7</td>\n",
       "      <td>4.076460</td>\n",
       "      <td>103.27.9.20</td>\n",
       "      <td>192.168.43.153</td>\n",
       "      <td>TCP</td>\n",
       "      <td>74</td>\n",
       "      <td>80  &gt;  34574 [SYN, ACK] Seq=0 Ack=1 Win=14480 ...</td>\n",
       "    </tr>\n",
       "    <tr>\n",
       "      <th>7</th>\n",
       "      <td>8</td>\n",
       "      <td>4.076497</td>\n",
       "      <td>192.168.43.153</td>\n",
       "      <td>103.27.9.20</td>\n",
       "      <td>TCP</td>\n",
       "      <td>66</td>\n",
       "      <td>34574  &gt;  80 [ACK] Seq=1 Ack=1 Win=14720 Len=0...</td>\n",
       "    </tr>\n",
       "    <tr>\n",
       "      <th>9</th>\n",
       "      <td>10</td>\n",
       "      <td>4.080701</td>\n",
       "      <td>103.27.9.20</td>\n",
       "      <td>192.168.43.153</td>\n",
       "      <td>TCP</td>\n",
       "      <td>74</td>\n",
       "      <td>80  &gt;  34573 [SYN, ACK] Seq=0 Ack=1 Win=14480 ...</td>\n",
       "    </tr>\n",
       "  </tbody>\n",
       "</table>\n",
       "</div>"
      ],
      "text/plain": [
       "   No.      Time          Source     Destination Protocol  Length  \\\n",
       "2    3  3.587724  192.168.43.153     103.27.9.20      TCP      74   \n",
       "5    6  3.840998  192.168.43.153     103.27.9.20      TCP      74   \n",
       "6    7  4.076460     103.27.9.20  192.168.43.153      TCP      74   \n",
       "7    8  4.076497  192.168.43.153     103.27.9.20      TCP      66   \n",
       "9   10  4.080701     103.27.9.20  192.168.43.153      TCP      74   \n",
       "\n",
       "                                                Info  \n",
       "2  34573  >  80 [SYN] Seq=0 Win=14600 Len=0 MSS=1...  \n",
       "5  34574  >  80 [SYN] Seq=0 Win=14600 Len=0 MSS=1...  \n",
       "6  80  >  34574 [SYN, ACK] Seq=0 Ack=1 Win=14480 ...  \n",
       "7  34574  >  80 [ACK] Seq=1 Ack=1 Win=14720 Len=0...  \n",
       "9  80  >  34573 [SYN, ACK] Seq=0 Ack=1 Win=14480 ...  "
      ]
     },
     "execution_count": 6,
     "metadata": {},
     "output_type": "execute_result"
    }
   ],
   "source": [
    "df_tcp = df[df['Protocol'] == 'TCP']\n",
    "df_tcp.head()"
   ]
  },
  {
   "cell_type": "markdown",
   "metadata": {},
   "source": []
  },
  {
   "cell_type": "code",
   "execution_count": 7,
   "metadata": {},
   "outputs": [
    {
     "name": "stdout",
     "output_type": "stream",
     "text": [
      "0\n"
     ]
    }
   ],
   "source": [
    "import re\n",
    "\n",
    "text = \"0 > 34574 [SYN, ACK] Seq=0 Ack=1 Win=14480\"\n",
    "pattern = r'(\\d+) > (\\d+)'\n",
    "\n",
    "match = re.search(pattern, text)\n",
    "if match:\n",
    "    value1, value2 = match.groups()\n",
    "\n",
    "print(value1)"
   ]
  },
  {
   "cell_type": "code",
   "execution_count": 8,
   "metadata": {},
   "outputs": [
    {
     "data": {
      "text/html": [
       "<div>\n",
       "<style scoped>\n",
       "    .dataframe tbody tr th:only-of-type {\n",
       "        vertical-align: middle;\n",
       "    }\n",
       "\n",
       "    .dataframe tbody tr th {\n",
       "        vertical-align: top;\n",
       "    }\n",
       "\n",
       "    .dataframe thead th {\n",
       "        text-align: right;\n",
       "    }\n",
       "</style>\n",
       "<table border=\"1\" class=\"dataframe\">\n",
       "  <thead>\n",
       "    <tr style=\"text-align: right;\">\n",
       "      <th></th>\n",
       "      <th>src_port</th>\n",
       "      <th>dest_port</th>\n",
       "    </tr>\n",
       "  </thead>\n",
       "  <tbody>\n",
       "    <tr>\n",
       "      <th>0</th>\n",
       "      <td>34573</td>\n",
       "      <td>80</td>\n",
       "    </tr>\n",
       "    <tr>\n",
       "      <th>1</th>\n",
       "      <td>34574</td>\n",
       "      <td>80</td>\n",
       "    </tr>\n",
       "    <tr>\n",
       "      <th>2</th>\n",
       "      <td>80</td>\n",
       "      <td>34574</td>\n",
       "    </tr>\n",
       "    <tr>\n",
       "      <th>3</th>\n",
       "      <td>34574</td>\n",
       "      <td>80</td>\n",
       "    </tr>\n",
       "    <tr>\n",
       "      <th>4</th>\n",
       "      <td>80</td>\n",
       "      <td>34573</td>\n",
       "    </tr>\n",
       "  </tbody>\n",
       "</table>\n",
       "</div>"
      ],
      "text/plain": [
       "  src_port dest_port\n",
       "0    34573        80\n",
       "1    34574        80\n",
       "2       80     34574\n",
       "3    34574        80\n",
       "4       80     34573"
      ]
     },
     "execution_count": 8,
     "metadata": {},
     "output_type": "execute_result"
    }
   ],
   "source": [
    "import re\n",
    "pattern = r'(\\d+)\\s+>\\s+(\\d+)'\n",
    "\n",
    "values = []\n",
    "\n",
    "for index, row in df_tcp.iterrows():\n",
    "    text = row['Info']\n",
    "    match = re.search(pattern, text)\n",
    "    if match:\n",
    "        x, y = match.groups()\n",
    "        values.append((x,y))\n",
    "\n",
    "\n",
    "\n",
    "df_ports = pd.DataFrame(values, columns=['src_port','dest_port'])\n",
    "\n",
    "df_ports.head()\n",
    "\n",
    "    \n",
    "\n"
   ]
  },
  {
   "cell_type": "code",
   "execution_count": 12,
   "metadata": {},
   "outputs": [
    {
     "data": {
      "text/plain": [
       "8                                       GET / HTTP/1.1 \n",
       "20    GET /sites/default/files/ctools/css/2d4fe1c141...\n",
       "31                         HTTP/1.1 200 OK  (text/html)\n",
       "33               GET /modules/node/node.css?Y HTTP/1.1 \n",
       "36         GET /modules/system/defaults.css?Y HTTP/1.1 \n",
       "39     GET /modules/system/system-menus.css?Y HTTP/1.1 \n",
       "42           GET /modules/system/system.css?Y HTTP/1.1 \n",
       "45               GET /modules/user/user.css?Y HTTP/1.1 \n",
       "47                           HTTP/1.1 304 Not Modified \n",
       "49    GET /sites/default/modules/calendar/calendar_m...\n",
       "Name: Info, dtype: object"
      ]
     },
     "execution_count": 12,
     "metadata": {},
     "output_type": "execute_result"
    }
   ],
   "source": [
    "df_http = df[df['Protocol'] == 'HTTP']['Info']\n",
    "df_http.head(10)"
   ]
  },
  {
   "cell_type": "code",
   "execution_count": null,
   "metadata": {},
   "outputs": [],
   "source": []
  }
 ],
 "metadata": {
  "kernelspec": {
   "display_name": "Python 3",
   "language": "python",
   "name": "python3"
  },
  "language_info": {
   "codemirror_mode": {
    "name": "ipython",
    "version": 3
   },
   "file_extension": ".py",
   "mimetype": "text/x-python",
   "name": "python",
   "nbconvert_exporter": "python",
   "pygments_lexer": "ipython3",
   "version": "3.6.9"
  }
 },
 "nbformat": 4,
 "nbformat_minor": 2
}
